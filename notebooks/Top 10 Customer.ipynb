{
 "cells": [
  {
   "cell_type": "code",
   "execution_count": 1,
   "metadata": {},
   "outputs": [],
   "source": [
    "import pandas as pd\n",
    "import matplotlib.pyplot as plt"
   ]
  },
  {
   "cell_type": "code",
   "execution_count": 2,
   "metadata": {},
   "outputs": [
    {
     "data": {
      "text/html": [
       "<div>\n",
       "<style scoped>\n",
       "    .dataframe tbody tr th:only-of-type {\n",
       "        vertical-align: middle;\n",
       "    }\n",
       "\n",
       "    .dataframe tbody tr th {\n",
       "        vertical-align: top;\n",
       "    }\n",
       "\n",
       "    .dataframe thead th {\n",
       "        text-align: right;\n",
       "    }\n",
       "</style>\n",
       "<table border=\"1\" class=\"dataframe\">\n",
       "  <thead>\n",
       "    <tr style=\"text-align: right;\">\n",
       "      <th></th>\n",
       "      <th>InvoiceNo</th>\n",
       "      <th>StockCode</th>\n",
       "      <th>Description</th>\n",
       "      <th>Quantity</th>\n",
       "      <th>InvoiceDate</th>\n",
       "      <th>UnitPrice</th>\n",
       "      <th>CustomerID</th>\n",
       "      <th>Country</th>\n",
       "    </tr>\n",
       "  </thead>\n",
       "  <tbody>\n",
       "    <tr>\n",
       "      <th>0</th>\n",
       "      <td>536365</td>\n",
       "      <td>85123A</td>\n",
       "      <td>WHITE HANGING HEART T-LIGHT HOLDER</td>\n",
       "      <td>6</td>\n",
       "      <td>2010-12-01 08:26:00</td>\n",
       "      <td>2.55</td>\n",
       "      <td>17850.0</td>\n",
       "      <td>United Kingdom</td>\n",
       "    </tr>\n",
       "    <tr>\n",
       "      <th>1</th>\n",
       "      <td>536365</td>\n",
       "      <td>71053</td>\n",
       "      <td>WHITE METAL LANTERN</td>\n",
       "      <td>6</td>\n",
       "      <td>2010-12-01 08:26:00</td>\n",
       "      <td>3.39</td>\n",
       "      <td>17850.0</td>\n",
       "      <td>United Kingdom</td>\n",
       "    </tr>\n",
       "    <tr>\n",
       "      <th>2</th>\n",
       "      <td>536365</td>\n",
       "      <td>84406B</td>\n",
       "      <td>CREAM CUPID HEARTS COAT HANGER</td>\n",
       "      <td>8</td>\n",
       "      <td>2010-12-01 08:26:00</td>\n",
       "      <td>2.75</td>\n",
       "      <td>17850.0</td>\n",
       "      <td>United Kingdom</td>\n",
       "    </tr>\n",
       "    <tr>\n",
       "      <th>3</th>\n",
       "      <td>536365</td>\n",
       "      <td>84029G</td>\n",
       "      <td>KNITTED UNION FLAG HOT WATER BOTTLE</td>\n",
       "      <td>6</td>\n",
       "      <td>2010-12-01 08:26:00</td>\n",
       "      <td>3.39</td>\n",
       "      <td>17850.0</td>\n",
       "      <td>United Kingdom</td>\n",
       "    </tr>\n",
       "    <tr>\n",
       "      <th>4</th>\n",
       "      <td>536365</td>\n",
       "      <td>84029E</td>\n",
       "      <td>RED WOOLLY HOTTIE WHITE HEART.</td>\n",
       "      <td>6</td>\n",
       "      <td>2010-12-01 08:26:00</td>\n",
       "      <td>3.39</td>\n",
       "      <td>17850.0</td>\n",
       "      <td>United Kingdom</td>\n",
       "    </tr>\n",
       "    <tr>\n",
       "      <th>...</th>\n",
       "      <td>...</td>\n",
       "      <td>...</td>\n",
       "      <td>...</td>\n",
       "      <td>...</td>\n",
       "      <td>...</td>\n",
       "      <td>...</td>\n",
       "      <td>...</td>\n",
       "      <td>...</td>\n",
       "    </tr>\n",
       "    <tr>\n",
       "      <th>49995</th>\n",
       "      <td>540541</td>\n",
       "      <td>21332</td>\n",
       "      <td>MOROCCAN BEATEN METAL MIRROR</td>\n",
       "      <td>1</td>\n",
       "      <td>2011-01-09 15:13:00</td>\n",
       "      <td>12.75</td>\n",
       "      <td>15799.0</td>\n",
       "      <td>United Kingdom</td>\n",
       "    </tr>\n",
       "    <tr>\n",
       "      <th>49996</th>\n",
       "      <td>540541</td>\n",
       "      <td>20831</td>\n",
       "      <td>GOLD PHOTO FRAME</td>\n",
       "      <td>6</td>\n",
       "      <td>2011-01-09 15:13:00</td>\n",
       "      <td>2.10</td>\n",
       "      <td>15799.0</td>\n",
       "      <td>United Kingdom</td>\n",
       "    </tr>\n",
       "    <tr>\n",
       "      <th>49997</th>\n",
       "      <td>540541</td>\n",
       "      <td>22169</td>\n",
       "      <td>FAMILY ALBUM WHITE PICTURE FRAME</td>\n",
       "      <td>2</td>\n",
       "      <td>2011-01-09 15:13:00</td>\n",
       "      <td>8.50</td>\n",
       "      <td>15799.0</td>\n",
       "      <td>United Kingdom</td>\n",
       "    </tr>\n",
       "    <tr>\n",
       "      <th>49998</th>\n",
       "      <td>540541</td>\n",
       "      <td>22170</td>\n",
       "      <td>PICTURE FRAME WOOD TRIPLE PORTRAIT</td>\n",
       "      <td>4</td>\n",
       "      <td>2011-01-09 15:13:00</td>\n",
       "      <td>6.75</td>\n",
       "      <td>15799.0</td>\n",
       "      <td>United Kingdom</td>\n",
       "    </tr>\n",
       "    <tr>\n",
       "      <th>49999</th>\n",
       "      <td>540541</td>\n",
       "      <td>22415</td>\n",
       "      <td>WHITE TISSUE REAM</td>\n",
       "      <td>1</td>\n",
       "      <td>2011-01-09 15:13:00</td>\n",
       "      <td>7.95</td>\n",
       "      <td>15799.0</td>\n",
       "      <td>United Kingdom</td>\n",
       "    </tr>\n",
       "  </tbody>\n",
       "</table>\n",
       "<p>50000 rows × 8 columns</p>\n",
       "</div>"
      ],
      "text/plain": [
       "      InvoiceNo StockCode                          Description  Quantity  \\\n",
       "0        536365    85123A   WHITE HANGING HEART T-LIGHT HOLDER         6   \n",
       "1        536365     71053                  WHITE METAL LANTERN         6   \n",
       "2        536365    84406B       CREAM CUPID HEARTS COAT HANGER         8   \n",
       "3        536365    84029G  KNITTED UNION FLAG HOT WATER BOTTLE         6   \n",
       "4        536365    84029E       RED WOOLLY HOTTIE WHITE HEART.         6   \n",
       "...         ...       ...                                  ...       ...   \n",
       "49995    540541     21332         MOROCCAN BEATEN METAL MIRROR         1   \n",
       "49996    540541     20831                     GOLD PHOTO FRAME         6   \n",
       "49997    540541     22169     FAMILY ALBUM WHITE PICTURE FRAME         2   \n",
       "49998    540541     22170   PICTURE FRAME WOOD TRIPLE PORTRAIT         4   \n",
       "49999    540541     22415                    WHITE TISSUE REAM         1   \n",
       "\n",
       "              InvoiceDate  UnitPrice  CustomerID         Country  \n",
       "0     2010-12-01 08:26:00       2.55     17850.0  United Kingdom  \n",
       "1     2010-12-01 08:26:00       3.39     17850.0  United Kingdom  \n",
       "2     2010-12-01 08:26:00       2.75     17850.0  United Kingdom  \n",
       "3     2010-12-01 08:26:00       3.39     17850.0  United Kingdom  \n",
       "4     2010-12-01 08:26:00       3.39     17850.0  United Kingdom  \n",
       "...                   ...        ...         ...             ...  \n",
       "49995 2011-01-09 15:13:00      12.75     15799.0  United Kingdom  \n",
       "49996 2011-01-09 15:13:00       2.10     15799.0  United Kingdom  \n",
       "49997 2011-01-09 15:13:00       8.50     15799.0  United Kingdom  \n",
       "49998 2011-01-09 15:13:00       6.75     15799.0  United Kingdom  \n",
       "49999 2011-01-09 15:13:00       7.95     15799.0  United Kingdom  \n",
       "\n",
       "[50000 rows x 8 columns]"
      ]
     },
     "execution_count": 2,
     "metadata": {},
     "output_type": "execute_result"
    }
   ],
   "source": [
    "df = pd.read_excel('../data/Online Retail.xlsx', nrows = 50000)\n",
    "df"
   ]
  },
  {
   "cell_type": "code",
   "execution_count": 21,
   "metadata": {},
   "outputs": [
    {
     "data": {
      "image/png": "[encoded data removed]",
      "text/plain": [
       "<Figure size 640x480 with 1 Axes>"
      ]
     },
     "metadata": {},
     "output_type": "display_data"
    }
   ],
   "source": [
    "fig = plt.figure()\n",
    "ax = fig.add_subplot()\n",
    "Customer = df['CustomerID'].value_counts().head(10)\n",
    "ax.bar(Customer.index.astype(str), Customer.values)\n",
    "\n",
    "ax.set_xlabel('CustomerID')\n",
    "ax.set_ylabel('count')\n",
    "ax.set_title('Top 10 Customer')\n",
    "plt.xticks(rotation=90)\n",
    "for index, value  in enumerate(Customer.values):\n",
    "    ax.text(index-0.3, value +0.4, value)\n",
    "\n",
    "plt.show()"
   ]
  },
  {
   "cell_type": "code",
   "execution_count": 6,
   "metadata": {},
   "outputs": [
    {
     "data": {
      "text/plain": [
       "CustomerID\n",
       "12748.0    684\n",
       "17841.0    393\n",
       "14606.0    333\n",
       "14911.0    333\n",
       "17850.0    297\n",
       "13081.0    260\n",
       "15311.0    254\n",
       "14298.0    197\n",
       "14505.0    183\n",
       "13174.0    169\n",
       "Name: count, dtype: int64"
      ]
     },
     "execution_count": 6,
     "metadata": {},
     "output_type": "execute_result"
    }
   ],
   "source": [
    "CustomerID = df['CustomerID'].value_counts().head(10)\n",
    "CustomerID"
   ]
  },
  {
   "cell_type": "code",
   "execution_count": 14,
   "metadata": {},
   "outputs": [
    {
     "data": {
      "text/plain": [
       "Index(['12748.0', '17841.0', '14606.0', '14911.0', '17850.0', '13081.0',\n",
       "       '15311.0', '14298.0', '14505.0', '13174.0'],\n",
       "      dtype='object', name='CustomerID')"
      ]
     },
     "execution_count": 14,
     "metadata": {},
     "output_type": "execute_result"
    }
   ],
   "source": [
    "Customer.index.astype(str)"
   ]
  },
  {
   "cell_type": "code",
   "execution_count": null,
   "metadata": {},
   "outputs": [],
   "source": []
  }
 ],
 "metadata": {
  "kernelspec": {
   "display_name": ".venv",
   "language": "python",
   "name": "python3"
  },
  "language_info": {
   "codemirror_mode": {
    "name": "ipython",
    "version": 3
   },
   "file_extension": ".py",
   "mimetype": "text/x-python",
   "name": "python",
   "nbconvert_exporter": "python",
   "pygments_lexer": "ipython3",
   "version": "3.10.12"
  }
 },
 "nbformat": 4,
 "nbformat_minor": 2
}
